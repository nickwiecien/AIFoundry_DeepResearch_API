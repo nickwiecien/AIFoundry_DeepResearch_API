{
 "cells": [
  {
   "cell_type": "markdown",
   "id": "7c9a1f53",
   "metadata": {},
   "source": [
    "# Web Search (Bing Grounded) Agent Creation Notebook\n",
    "\n",
    "This notebook shows how to create a lightweight Web Search Agent using the **Azure AI Agents Service** in **Azure AI Foundry**. The agent uses Bing grounding (public web search) to answer user questions with up-to-date, sourced information—no deep multi-hour research pipeline, just concise, credible synthesis.\n",
    "\n",
    "You will:\n",
    "\n",
    "1. Load and validate required environment variables\n",
    "2. Initialize the Azure AI Project client\n",
    "3. Resolve the Bing grounding connection\n",
    "4. Initialize the Bing grounding tool\n",
    "5. Define focused agent instructions\n",
    "6. Create the agent with the tool definition\n",
    "7. Output the resulting `agent.id` (set it as `AGENT_ID` in your environment for later use)\n",
    "\n",
    "> After creation, use the printed `AGENT_ID` when submitting web search style queries through your API or directly via the Azure AI Agents SDK."
   ]
  },
  {
   "cell_type": "markdown",
   "id": "48fd71ba",
   "metadata": {},
   "source": [
    "## 1. Required Environment Variables\n",
    "\n",
    "Define these (e.g., in `api/.env`):\n",
    "\n",
    "| Variable | Description |\n",
    "|----------|-------------|\n",
    "| `PROJECT_ENDPOINT` | Azure AI Project endpoint URL |\n",
    "| `BING_RESOURCE_NAME` | Name of the Bing grounding connection in the project |\n",
    "| `MODEL_DEPLOYMENT_NAME` | Deployment name of the base model the agent will use (e.g., `gpt-4o`) |\n",
    "\n",
    "Create/update your `.env` before running the next cell."
   ]
  },
  {
   "cell_type": "code",
   "execution_count": 8,
   "id": "e0484d7b",
   "metadata": {},
   "outputs": [
    {
     "name": "stdout",
     "output_type": "stream",
     "text": [
      "All required environment variables are set.\n"
     ]
    }
   ],
   "source": [
    "# 2. Load environment variables and validate\n",
    "import os\n",
    "from dotenv import load_dotenv\n",
    "\n",
    "required_vars = [\n",
    "    \"PROJECT_ENDPOINT\",\n",
    "    \"BING_RESOURCE_NAME\",\n",
    "    \"MODEL_DEPLOYMENT_NAME\"\n",
    "]\n",
    "\n",
    "load_dotenv('../api/.env', override=True)\n",
    "missing = [v for v in required_vars if not os.getenv(v)]\n",
    "if missing:\n",
    "    raise ValueError(f\"Missing required environment variables: {missing}\")\n",
    "else:\n",
    "    print(\"All required environment variables are set.\")"
   ]
  },
  {
   "cell_type": "markdown",
   "id": "7e9bf9ed",
   "metadata": {},
   "source": [
    "## 3. Initialize Azure AI Project Client\n",
    "This client lets us interact with the Agents service (threads, messages, agents, tools, connections). We authenticate with `DefaultAzureCredential`, so be sure your Azure CLI or managed identity context is valid."
   ]
  },
  {
   "cell_type": "code",
   "execution_count": 9,
   "id": "dc13c65a",
   "metadata": {},
   "outputs": [
    {
     "name": "stdout",
     "output_type": "stream",
     "text": [
      "Project client initialized.\n"
     ]
    }
   ],
   "source": [
    "# 3. Initialize Azure AI Project Client\n",
    "from azure.ai.projects import AIProjectClient\n",
    "from azure.identity import DefaultAzureCredential\n",
    "\n",
    "project_client = AIProjectClient(\n",
    "    endpoint=os.environ[\"PROJECT_ENDPOINT\"],\n",
    "    credential=DefaultAzureCredential(),\n",
    ")\n",
    "print(\"Project client initialized.\")"
   ]
  },
  {
   "cell_type": "markdown",
   "id": "3e6d212d",
   "metadata": {},
   "source": [
    "## 4. Resolve Bing Grounding Connection\n",
    "We fetch the connection by name (set in `BING_RESOURCE_NAME`). This provides the `id` needed when constructing the Deep Research tool."
   ]
  },
  {
   "cell_type": "code",
   "execution_count": 10,
   "id": "e584950f",
   "metadata": {},
   "outputs": [
    {
     "name": "stdout",
     "output_type": "stream",
     "text": [
      "Bing connection id: /subscriptions/3a72b9f9-cb8d-44de-827e-ade93ff2dab5/resourceGroups/rg-deepresearch-testing/providers/Microsoft.CognitiveServices/accounts/deep-research-testing-foundry/projects/deep-research-testing-project/connections/rutzscoagents\n"
     ]
    }
   ],
   "source": [
    "# 4. Resolve Bing Grounding Connection ID\n",
    "conn_id = project_client.connections.get(name=os.environ[\"BING_RESOURCE_NAME\"]).id\n",
    "print(\"Bing connection id:\", conn_id)"
   ]
  },
  {
   "cell_type": "markdown",
   "id": "143531f2",
   "metadata": {},
   "source": [
    "## 5. Initialize Bing Grounding Tool\n",
    "Construct the `BingGroundingTool` using the connection id. This enables the agent to perform real-time web searches with citation metadata."
   ]
  },
  {
   "cell_type": "code",
   "execution_count": 11,
   "id": "acc14578",
   "metadata": {},
   "outputs": [
    {
     "name": "stdout",
     "output_type": "stream",
     "text": [
      "Bing Grounding tool initialized.\n"
     ]
    }
   ],
   "source": [
    "# 5. Initialize Bing Grounding Tool\n",
    "from azure.ai.agents.models import BingGroundingTool\n",
    "\n",
    "bing_tool = BingGroundingTool(\n",
    "    connection_id=conn_id\n",
    ")\n",
    "print(\"Bing Grounding tool initialized.\")"
   ]
  },
  {
   "cell_type": "markdown",
   "id": "2fe1a093",
   "metadata": {},
   "source": [
    "## 6. Define Agent Instructions\n",
    "Keep instructions focused: answer user queries with up-to-date, sourced information from the public web. Be concise, trustworthy, and include inline citations pointing to credible sources. Avoid speculation."
   ]
  },
  {
   "cell_type": "code",
   "execution_count": 15,
   "id": "29e5bd7a",
   "metadata": {},
   "outputs": [],
   "source": [
    "# 6. Define Agent Instructions\n",
    "instructions = \"\"\"# Web Search Agent — Operating Instructions\n",
    "\n",
    "You are a **Web Search Agent**. For **every** user query:\n",
    "\n",
    "- **ALWAYS** attempt to use your web search tool to retrieve relevant and recent information **before** composing the answer (unless the user explicitly says not to). Run at least one targeted search and open multiple credible sources.\n",
    "- **Synthesize** the most relevant, recent, and credible findings into a concise answer.\n",
    "- **Cite every non-obvious factual claim** with an inline reference marker like **[1]**, **[2]**, etc., and include a **Sources** section mapping each marker to a **URL** (title, publisher, and publish date when available).\n",
    "- **Prefer authoritative sources**: government, academic, reputable news, technical docs, official announcements/repositories.\n",
    "- **Be structured and brief**: answer with bullets or short sections; start with a 1–2 sentence summary when helpful.\n",
    "- **Check dates** and prioritize up-to-date info; note both event date and publication date when relevant.\n",
    "- **Note uncertainty or conflicts** briefly and explain the main viewpoints with citations.\n",
    "- **Do NOT fabricate** data, quotes, or citations. If you cannot verify something, say so (with a note on what you did search).\n",
    "\"\"\""
   ]
  },
  {
   "cell_type": "markdown",
   "id": "05a2fa0b",
   "metadata": {},
   "source": [
    "## 7. Create the Web Search Agent\n",
    "Create the agent using your base model deployment and the Bing grounding tool definitions."
   ]
  },
  {
   "cell_type": "code",
   "execution_count": 16,
   "id": "ee93de7a",
   "metadata": {},
   "outputs": [
    {
     "name": "stdout",
     "output_type": "stream",
     "text": [
      "Web search agent created.\n"
     ]
    }
   ],
   "source": [
    "# 7. Create the Web Search Agent\n",
    "agent = project_client.agents.create_agent(\n",
    "    model=os.environ[\"MODEL_DEPLOYMENT_NAME\"],\n",
    "    name=\"web-search-agent\",\n",
    "    instructions=instructions,\n",
    "    tools=bing_tool.definitions,\n",
    ")\n",
    "print(\"Web search agent created.\")"
   ]
  },
  {
   "cell_type": "markdown",
   "id": "062326a9",
   "metadata": {},
   "source": [
    "## 8. Output Agent ID\n",
    "Copy this value and set it as `AGENT_ID` in your environment to route future web search queries through this agent."
   ]
  },
  {
   "cell_type": "code",
   "execution_count": 17,
   "id": "14c385e2",
   "metadata": {},
   "outputs": [
    {
     "name": "stdout",
     "output_type": "stream",
     "text": [
      "AGENT_ID= asst_v7qdDNDKV6a6gUM0rbazVKVz\n"
     ]
    },
    {
     "data": {
      "text/plain": [
       "'asst_v7qdDNDKV6a6gUM0rbazVKVz'"
      ]
     },
     "execution_count": 17,
     "metadata": {},
     "output_type": "execute_result"
    }
   ],
   "source": [
    "# 8. Print Agent ID\n",
    "print(\"AGENT_ID=\", agent.id)\n",
    "agent.id"
   ]
  }
 ],
 "metadata": {
  "kernelspec": {
   "display_name": "Python 3",
   "language": "python",
   "name": "python3"
  },
  "language_info": {
   "codemirror_mode": {
    "name": "ipython",
    "version": 3
   },
   "file_extension": ".py",
   "mimetype": "text/x-python",
   "name": "python",
   "nbconvert_exporter": "python",
   "pygments_lexer": "ipython3",
   "version": "3.11.9"
  }
 },
 "nbformat": 4,
 "nbformat_minor": 5
}
