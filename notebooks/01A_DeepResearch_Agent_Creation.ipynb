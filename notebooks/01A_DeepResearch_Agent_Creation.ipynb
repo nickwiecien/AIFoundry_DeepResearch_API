{
 "cells": [
  {
   "cell_type": "markdown",
   "id": "d7f7edc7",
   "metadata": {},
   "source": [
    "# Deep Research Agent Creation Notebook\n",
    "\n",
    "This notebook demonstrates how to create a Deep Research Agent using the **Azure AI Agents Service** in **Azure AI Foundry**. It includes only the minimal steps required to provision an agent capable of performing grounded deep research with Bing and a deployed deep research model.\n",
    "\n",
    "You will:\n",
    "\n",
    "1. Load and validate required environment variables\n",
    "2. Initialize the Azure AI Project client (Agents Service)\n",
    "3. Resolve the Bing grounding connection\n",
    "4. Initialize the Deep Research tool\n",
    "5. Define concise agent instructions\n",
    "6. Create the agent with tool definitions\n",
    "7. Output the resulting `agent.id` for reuse (set it as `AGENT_ID` in your environment later)\n",
    "\n",
    "> After creation, use the printed `AGENT_ID` when calling your API's `/research/submit` endpoint.\n"
   ]
  },
  {
   "cell_type": "markdown",
   "id": "7977d82d",
   "metadata": {},
   "source": [
    "## 1. Required Environment Variables\n",
    "\n",
    "The following environment variables must be defined (e.g., in a `.env` file or process environment):\n",
    "\n",
    "| Variable | Description |\n",
    "|----------|-------------|\n",
    "| `PROJECT_ENDPOINT` | Azure AI Project endpoint URL |\n",
    "| `BING_RESOURCE_NAME` | Name of the Bing grounding connection in the project |\n",
    "| `DEEP_RESEARCH_MODEL_DEPLOYMENT_NAME` | Deployment name of the deep research model (e.g., `o3-deep-research`) |\n",
    "| `MODEL_DEPLOYMENT_NAME` | Deployment name of the base model the agent will use (e.g., `gpt-4o`) |\n",
    "\n",
    "If you haven’t set them, create a `.env` file in the repo root before running the next cell."
   ]
  },
  {
   "cell_type": "code",
   "execution_count": 8,
   "id": "f76035fb",
   "metadata": {},
   "outputs": [
    {
     "name": "stdout",
     "output_type": "stream",
     "text": [
      "All required environment variables are set.\n"
     ]
    }
   ],
   "source": [
    "# 2. Load environment variables and validate\n",
    "import os\n",
    "from dotenv import load_dotenv\n",
    "\n",
    "required_vars = [\n",
    "    \"PROJECT_ENDPOINT\",\n",
    "    \"BING_RESOURCE_NAME\",\n",
    "    \"DEEP_RESEARCH_MODEL_DEPLOYMENT_NAME\",\n",
    "    \"MODEL_DEPLOYMENT_NAME\"\n",
    "]\n",
    "\n",
    "load_dotenv('../api/.env', override=True)\n",
    "missing = [v for v in required_vars if not os.getenv(v)]\n",
    "if missing:\n",
    "    raise ValueError(f\"Missing required environment variables: {missing}\")\n",
    "else:\n",
    "    print(\"All required environment variables are set.\")"
   ]
  },
  {
   "cell_type": "markdown",
   "id": "b34c8140",
   "metadata": {},
   "source": [
    "## 3. Initialize Azure AI Project Client\n",
    "This client lets us interact with the Agents service (threads, messages, agents, tools, connections). We authenticate with `DefaultAzureCredential`, so be sure your Azure CLI or managed identity context is valid."
   ]
  },
  {
   "cell_type": "code",
   "execution_count": 9,
   "id": "1f360499",
   "metadata": {},
   "outputs": [
    {
     "name": "stdout",
     "output_type": "stream",
     "text": [
      "Project client initialized.\n"
     ]
    }
   ],
   "source": [
    "# 3. Initialize Azure AI Project Client\n",
    "from azure.ai.projects import AIProjectClient\n",
    "from azure.identity import DefaultAzureCredential\n",
    "\n",
    "project_client = AIProjectClient(\n",
    "    endpoint=os.environ[\"PROJECT_ENDPOINT\"],\n",
    "    credential=DefaultAzureCredential(),\n",
    ")\n",
    "print(\"Project client initialized.\")"
   ]
  },
  {
   "cell_type": "markdown",
   "id": "83d97981",
   "metadata": {},
   "source": [
    "## 4. Resolve Bing Grounding Connection\n",
    "We fetch the connection by name (set in `BING_RESOURCE_NAME`). This provides the `id` needed when constructing the Deep Research tool."
   ]
  },
  {
   "cell_type": "code",
   "execution_count": 10,
   "id": "f668383a",
   "metadata": {},
   "outputs": [
    {
     "name": "stdout",
     "output_type": "stream",
     "text": [
      "Bing connection id: /subscriptions/3a72b9f9-cb8d-44de-827e-ade93ff2dab5/resourceGroups/rg-deepresearch-testing/providers/Microsoft.CognitiveServices/accounts/deep-research-testing-foundry/projects/deep-research-testing-project/connections/rutzscoagents\n"
     ]
    }
   ],
   "source": [
    "# 4. Resolve Bing Grounding Connection ID\n",
    "conn_id = project_client.connections.get(name=os.environ[\"BING_RESOURCE_NAME\"]).id\n",
    "print(\"Bing connection id:\", conn_id)"
   ]
  },
  {
   "cell_type": "markdown",
   "id": "e72d9a7c",
   "metadata": {},
   "source": [
    "## 5. Initialize Deep Research Tool\n",
    "We construct `DeepResearchTool` providing grounding connection id and the deep research model deployment. This produces tool definitions consumed by the agent creation call."
   ]
  },
  {
   "cell_type": "code",
   "execution_count": 11,
   "id": "905c27af",
   "metadata": {},
   "outputs": [
    {
     "name": "stdout",
     "output_type": "stream",
     "text": [
      "Deep Research tool initialized.\n"
     ]
    }
   ],
   "source": [
    "# 5. Initialize Deep Research Tool\n",
    "from azure.ai.agents.models import DeepResearchTool\n",
    "\n",
    "deep_research_tool = DeepResearchTool(\n",
    "    bing_grounding_connection_id=conn_id,\n",
    "    deep_research_model=os.environ[\"DEEP_RESEARCH_MODEL_DEPLOYMENT_NAME\"],\n",
    ")\n",
    "print(\"Deep Research tool initialized.\")"
   ]
  },
  {
   "cell_type": "markdown",
   "id": "2c0a8c70",
   "metadata": {},
   "source": [
    "## 6. Define Agent Instructions\n",
    "These instructions guide the Deep Research agent to produce structured, evidence-based reports with citations and analytical depth."
   ]
  },
  {
   "cell_type": "code",
   "execution_count": 12,
   "id": "9878b0ab",
   "metadata": {},
   "outputs": [],
   "source": [
    "# 6. Define Agent Instructions\n",
    "instructions = \"\"\"You are tasked with conducting a detailed, data-driven analysis based on the user's query across any research domain. Your role is to deliver structured, evidence-based insights tailored to inform decision-making or deepen understanding within the specified topic in the form of a well-organized report.  \n",
    "  \n",
    "## Key Objectives  \n",
    "1. **Data-Driven Insights**: Incorporate specific and measurable information, such as trends, statistics, comparisons, and actionable outcomes relevant to the topic (e.g., industry growth rates, performance metrics, user adoption rates, societal impact).       \n",
    "2. **Reliable Sources**: Prioritize credible, up-to-date references, such as peer-reviewed studies, official reports, industry analyses, or government publications.    \n",
    "3. **Citations and Metadata**: Include inline citations for all claims and provide full metadata for the sources used, ensuring traceability and reliability.  \n",
    "  \n",
    "## Approach  \n",
    "- Be analytical, avoiding generalities, and focus on creating a well-structured argument supported by data.    \n",
    "- Each section should leverage evidence to support conclusions and provide insights that could be used for strategic planning, policy development, or further exploration of the topic.\n",
    "\"\"\""
   ]
  },
  {
   "cell_type": "markdown",
   "id": "fc6a6fbb",
   "metadata": {},
   "source": [
    "## 7. Create the Deep Research Agent\n",
    "We now call `create_agent` providing the model deployment name, instructions, and tool definitions."
   ]
  },
  {
   "cell_type": "code",
   "execution_count": 13,
   "id": "eeaa6c85",
   "metadata": {},
   "outputs": [
    {
     "name": "stdout",
     "output_type": "stream",
     "text": [
      "Agent created.\n"
     ]
    }
   ],
   "source": [
    "# 7. Create the Deep Research Agent\n",
    "agent = project_client.agents.create_agent(\n",
    "    model=os.environ[\"MODEL_DEPLOYMENT_NAME\"],\n",
    "    name=\"deep-research-agent\",\n",
    "    instructions=instructions,\n",
    "    tools=deep_research_tool.definitions,\n",
    ")\n",
    "print(\"Agent created.\")"
   ]
  },
  {
   "cell_type": "markdown",
   "id": "cb4cb94a",
   "metadata": {},
   "source": [
    "## 8. Output Agent ID\n",
    "Store or export this value (e.g., set `AGENT_ID` in your environment) for subsequent research submissions."
   ]
  },
  {
   "cell_type": "code",
   "execution_count": 14,
   "id": "998a9f02",
   "metadata": {},
   "outputs": [
    {
     "name": "stdout",
     "output_type": "stream",
     "text": [
      "AGENT_ID= asst_aMft24CsmWMChmkb30ai30tD\n"
     ]
    },
    {
     "data": {
      "text/plain": [
       "'asst_aMft24CsmWMChmkb30ai30tD'"
      ]
     },
     "execution_count": 14,
     "metadata": {},
     "output_type": "execute_result"
    }
   ],
   "source": [
    "# 8. Print Agent ID\n",
    "print(\"AGENT_ID=\", agent.id)\n",
    "agent.id"
   ]
  }
 ],
 "metadata": {
  "kernelspec": {
   "display_name": "Python 3",
   "language": "python",
   "name": "python3"
  },
  "language_info": {
   "codemirror_mode": {
    "name": "ipython",
    "version": 3
   },
   "file_extension": ".py",
   "mimetype": "text/x-python",
   "name": "python",
   "nbconvert_exporter": "python",
   "pygments_lexer": "ipython3",
   "version": "3.11.9"
  }
 },
 "nbformat": 4,
 "nbformat_minor": 5
}
