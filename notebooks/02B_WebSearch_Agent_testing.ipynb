{
 "cells": [
  {
   "cell_type": "markdown",
   "id": "aa136a13",
   "metadata": {},
   "source": [
    "# Web Search Agent Testing Notebook\n",
    "\n",
    "This notebook walks through testing your Bing-grounded Web Search Agent (created in the Web Search Agent Creation notebook) using the `/agent/stream` endpoint.\n",
    "\n",
    "Workflow:\n",
    "1. Ensure the API is running locally\n",
    "2. Load environment variables (including `AGENT_ID` of the web search agent)\n",
    "3. Create a thread (`/thread/create`)\n",
    "4. Send a streaming question to `/agent/stream`\n",
    "5. Render incremental output live\n",
    "\n",
    "We'll ask:\n",
    "> how much did Jaws make at the global box office?\n",
    "\n",
    "Run cells in order."
   ]
  },
  {
   "cell_type": "markdown",
   "id": "6c77cf9a",
   "metadata": {},
   "source": [
    "## 1. Run the API Locally (Uvicorn)\n",
    "Ensure the FastAPI server is running (auto-loads `api/.env`). From repo root:\n",
    "```powershell\n",
    "python -m venv .venv\n",
    ".\\.venv\\Scripts\\Activate.ps1\n",
    "pip install -r api/requirements.txt\n",
    "uvicorn api.main:app --reload --host 0.0.0.0 --port 8000\n",
    "```\n",
    "Open docs: http://localhost:8000/docs\n",
    "Proceed once the server is running."
   ]
  },
  {
   "cell_type": "markdown",
   "id": "d0fbccd2",
   "metadata": {},
   "source": [
    "## 2. Load Environment & Define Base URL\n",
    "Loads `.env` and validates required values."
   ]
  },
  {
   "cell_type": "code",
   "execution_count": 32,
   "id": "366f3e76",
   "metadata": {},
   "outputs": [
    {
     "name": "stdout",
     "output_type": "stream",
     "text": [
      "Base URL: http://localhost:8000\n",
      "Agent ID: asst_v7qdDNDKV6a6gUM0rbazVKVz\n"
     ]
    }
   ],
   "source": [
    "# 2. Load environment & base URL\n",
    "import os\n",
    "from dotenv import load_dotenv\n",
    "\n",
    "load_dotenv('../api/.env', override=True)\n",
    "BASE_URL = os.getenv('API_BASE_URL', 'http://localhost:8000')\n",
    "AGENT_ID = os.getenv('WEB_SEARCH_AGENT_ID')\n",
    "if not AGENT_ID:\n",
    "    raise ValueError('AGENT_ID not set. Create the web search agent and set AGENT_ID in .env.')\n",
    "print('Base URL:', BASE_URL)\n",
    "print('Agent ID:', AGENT_ID)"
   ]
  },
  {
   "cell_type": "markdown",
   "id": "6cc91e8a",
   "metadata": {},
   "source": [
    "## 3. Create a Thread\n",
    "Call `/thread/create` to obtain a `thread_id` for this interaction."
   ]
  },
  {
   "cell_type": "code",
   "execution_count": 33,
   "id": "0cc43672",
   "metadata": {},
   "outputs": [
    {
     "name": "stdout",
     "output_type": "stream",
     "text": [
      "Thread ID: thread_g9Vd3r0lMXSSOVhY935mYNTi\n"
     ]
    }
   ],
   "source": [
    "# 3. Create thread\n",
    "import requests\n",
    "resp = requests.post(f\"{BASE_URL}/thread/create\")\n",
    "resp.raise_for_status()\n",
    "thread_id = resp.json()['thread_id']\n",
    "print('Thread ID:', thread_id)"
   ]
  },
  {
   "cell_type": "markdown",
   "id": "46935af6",
   "metadata": {},
   "source": [
    "## 4. Stream a Web Search Query\n",
    "Use `/agent/stream` to send the question and render incremental output. The question:\n",
    "```\n",
    "how much did Jaws make at the global box office?\n",
    "```"
   ]
  },
  {
   "cell_type": "code",
   "execution_count": 34,
   "id": "13ee909b",
   "metadata": {},
   "outputs": [
    {
     "data": {
      "text/markdown": [
       "### Final Answer\n",
       "\n",
       "**Question:** how much did Jaws make at the global box office?\n",
       "\n",
       "The global box office earnings for the 1975 film *Jaws* totaled approximately $489.5 million, including $278.8 million from North America and $210.6 million internationally. This figure includes revenue from several re-releases [Jaws - Box Office Mojo](https://www.boxofficemojo.com/title/tt0073195/)  [Jaws Re-Release Box Office: Steven Spielberg’s Classic Hits ... - Koimoi](https://www.koimoi.com/box-office/jaws-re-release-box-office-steven-spielbergs-classic-hits-10m-domestically-for-50th-anniversary/) .<br/>"
      ],
      "text/plain": [
       "<IPython.core.display.Markdown object>"
      ]
     },
     "metadata": {},
     "output_type": "display_data"
    },
    {
     "name": "stdout",
     "output_type": "stream",
     "text": [
      "--- Stream complete ---\n"
     ]
    }
   ],
   "source": [
    "# 4. Stream query response (inline citation replacement during stream)\n",
    "import requests\n",
    "import json\n",
    "from IPython.display import display, Markdown, clear_output\n",
    "\n",
    "question = \"how much did Jaws make at the global box office?\"\n",
    "url = f\"{BASE_URL}/agent/stream\"\n",
    "\n",
    "payload = {\n",
    "    \"thread_id\": thread_id,\n",
    "    \"message\": question,\n",
    "    \"agent_id\": AGENT_ID\n",
    "}\n",
    "\n",
    "accumulated = \"\"\n",
    "citations_processed = False\n",
    "processed_text = None  # Holds text after inline citation substitution\n",
    "\n",
    "with requests.post(url, json=payload, stream=True) as r:\n",
    "    r.raise_for_status()\n",
    "    for chunk in r.iter_content(chunk_size=None):\n",
    "        if not chunk:\n",
    "            continue\n",
    "        try:\n",
    "            text = chunk.decode('utf-8', errors='ignore')\n",
    "        except Exception:\n",
    "            continue\n",
    "        accumulated += text\n",
    "\n",
    "        # Attempt inline citation processing once citation JSON appears and is parseable\n",
    "        if not citations_processed and ('##CITATIONS:' in accumulated or '##CITATIONS' in accumulated):\n",
    "            # Prefer the variant with colon if present\n",
    "            split_token = '##CITATIONS:' if '##CITATIONS:' in accumulated else '##CITATIONS'\n",
    "            main_text, citation_blob = accumulated.split(split_token, 1)\n",
    "            citation_blob = citation_blob.strip()\n",
    "            try:\n",
    "                citations = json.loads(citation_blob)\n",
    "                updated_text = main_text.rstrip()\n",
    "                # Inline replacement logic\n",
    "                for citation in citations:\n",
    "                    try:\n",
    "                        url_citation = citation.get('url_citation') or {}\n",
    "                        title = url_citation.get('title') or url_citation.get('url') or 'Source'\n",
    "                        url = url_citation.get('url') or ''\n",
    "                        original_text = citation.get('text') or ''\n",
    "                        if original_text:\n",
    "                            formatted_citation = f\" [{title}]({url}) \"\n",
    "                            updated_text = updated_text.replace(original_text, formatted_citation)\n",
    "                    except Exception:\n",
    "                        continue\n",
    "                processed_text = updated_text\n",
    "                citations_processed = True\n",
    "            except Exception:\n",
    "                # JSON likely incomplete; wait for more chunks\n",
    "                pass\n",
    "\n",
    "        clear_output(wait=True)\n",
    "        if citations_processed and processed_text is not None:\n",
    "            display(Markdown(f\"### Streaming Response (in-progress, citations applied)\\n\\n**Question:** {question}\\n\\n{processed_text}\"))\n",
    "        else:\n",
    "            display(Markdown(f\"### Streaming Response (in-progress)\\n\\n**Question:** {question}\\n\\n{accumulated}\"))\n",
    "\n",
    "# Final render\n",
    "clear_output(wait=True)\n",
    "final_output = processed_text if (citations_processed and processed_text is not None) else accumulated\n",
    "# If any trailing citation JSON remained, strip it for cleanliness\n",
    "if '##CITATIONS' in final_output:\n",
    "    final_output = final_output.split('##CITATIONS')[0].rstrip()\n",
    "\n",
    "display(Markdown(f\"### Final Answer\\n\\n**Question:** {question}\\n\\n{final_output}\"))\n",
    "print(\"--- Stream complete ---\")"
   ]
  }
 ],
 "metadata": {
  "kernelspec": {
   "display_name": "Python 3",
   "language": "python",
   "name": "python3"
  },
  "language_info": {
   "codemirror_mode": {
    "name": "ipython",
    "version": 3
   },
   "file_extension": ".py",
   "mimetype": "text/x-python",
   "name": "python",
   "nbconvert_exporter": "python",
   "pygments_lexer": "ipython3",
   "version": "3.11.9"
  }
 },
 "nbformat": 4,
 "nbformat_minor": 5
}
